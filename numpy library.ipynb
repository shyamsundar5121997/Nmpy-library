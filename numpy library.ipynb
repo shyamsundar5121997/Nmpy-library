{
 "cells": [
  {
   "cell_type": "code",
   "execution_count": 1,
   "id": "a3500831",
   "metadata": {},
   "outputs": [],
   "source": [
    "import numpy as np"
   ]
  },
  {
   "cell_type": "code",
   "execution_count": 2,
   "id": "6ec090a6",
   "metadata": {},
   "outputs": [],
   "source": [
    "l=[1,2,3,4,5]"
   ]
  },
  {
   "cell_type": "code",
   "execution_count": 3,
   "id": "55df3db6",
   "metadata": {},
   "outputs": [
    {
     "data": {
      "text/plain": [
       "list"
      ]
     },
     "execution_count": 3,
     "metadata": {},
     "output_type": "execute_result"
    }
   ],
   "source": [
    "type(l)"
   ]
  },
  {
   "cell_type": "code",
   "execution_count": 4,
   "id": "6885e789",
   "metadata": {},
   "outputs": [],
   "source": [
    "# we convert list to array with the help of numpy."
   ]
  },
  {
   "cell_type": "code",
   "execution_count": 6,
   "id": "ae67df03",
   "metadata": {},
   "outputs": [],
   "source": [
    "a=np.array(l)"
   ]
  },
  {
   "cell_type": "code",
   "execution_count": 7,
   "id": "7c4569c0",
   "metadata": {},
   "outputs": [
    {
     "data": {
      "text/plain": [
       "array([1, 2, 3, 4, 5])"
      ]
     },
     "execution_count": 7,
     "metadata": {},
     "output_type": "execute_result"
    }
   ],
   "source": [
    "a"
   ]
  },
  {
   "cell_type": "code",
   "execution_count": 8,
   "id": "6c5f4145",
   "metadata": {},
   "outputs": [
    {
     "data": {
      "text/plain": [
       "numpy.ndarray"
      ]
     },
     "execution_count": 8,
     "metadata": {},
     "output_type": "execute_result"
    }
   ],
   "source": [
    "type(a)"
   ]
  },
  {
   "cell_type": "code",
   "execution_count": 9,
   "id": "e874d771",
   "metadata": {},
   "outputs": [
    {
     "data": {
      "text/plain": [
       "1"
      ]
     },
     "execution_count": 9,
     "metadata": {},
     "output_type": "execute_result"
    }
   ],
   "source": [
    "# find dimension of array\n",
    "a.ndim"
   ]
  },
  {
   "cell_type": "code",
   "execution_count": 12,
   "id": "ccd50993",
   "metadata": {},
   "outputs": [],
   "source": [
    "b=np.array([[1,2,3],[4,5,6]])\n"
   ]
  },
  {
   "cell_type": "code",
   "execution_count": 13,
   "id": "39437294",
   "metadata": {},
   "outputs": [
    {
     "data": {
      "text/plain": [
       "array([[1, 2, 3],\n",
       "       [4, 5, 6]])"
      ]
     },
     "execution_count": 13,
     "metadata": {},
     "output_type": "execute_result"
    }
   ],
   "source": [
    "b"
   ]
  },
  {
   "cell_type": "code",
   "execution_count": 14,
   "id": "089bf232",
   "metadata": {},
   "outputs": [
    {
     "data": {
      "text/plain": [
       "2"
      ]
     },
     "execution_count": 14,
     "metadata": {},
     "output_type": "execute_result"
    }
   ],
   "source": [
    "b.ndim"
   ]
  },
  {
   "cell_type": "code",
   "execution_count": 15,
   "id": "073641ed",
   "metadata": {},
   "outputs": [],
   "source": [
    "c=np.array([[[1,2,3],\n",
    "            [4,5,6],\n",
    "            [7,8,9]]])"
   ]
  },
  {
   "cell_type": "code",
   "execution_count": 16,
   "id": "fb19bd31",
   "metadata": {},
   "outputs": [
    {
     "data": {
      "text/plain": [
       "array([[[1, 2, 3],\n",
       "        [4, 5, 6],\n",
       "        [7, 8, 9]]])"
      ]
     },
     "execution_count": 16,
     "metadata": {},
     "output_type": "execute_result"
    }
   ],
   "source": [
    "c"
   ]
  },
  {
   "cell_type": "code",
   "execution_count": 17,
   "id": "68685b9b",
   "metadata": {},
   "outputs": [
    {
     "data": {
      "text/plain": [
       "3"
      ]
     },
     "execution_count": 17,
     "metadata": {},
     "output_type": "execute_result"
    }
   ],
   "source": [
    "c.ndim"
   ]
  },
  {
   "cell_type": "code",
   "execution_count": 18,
   "id": "ee93c49b",
   "metadata": {},
   "outputs": [],
   "source": [
    "# matrix dimension start from two dimensions."
   ]
  },
  {
   "cell_type": "code",
   "execution_count": 22,
   "id": "97c54953",
   "metadata": {},
   "outputs": [],
   "source": [
    "l1=[1,2,3,4]"
   ]
  },
  {
   "cell_type": "code",
   "execution_count": 32,
   "id": "56ef7969",
   "metadata": {},
   "outputs": [
    {
     "data": {
      "text/plain": [
       "[1, 2, 3, 4]"
      ]
     },
     "execution_count": 32,
     "metadata": {},
     "output_type": "execute_result"
    }
   ],
   "source": [
    "l1"
   ]
  },
  {
   "cell_type": "code",
   "execution_count": 33,
   "id": "3f138844",
   "metadata": {},
   "outputs": [
    {
     "data": {
      "text/plain": [
       "matrix([[1, 2, 3, 4]])"
      ]
     },
     "execution_count": 33,
     "metadata": {},
     "output_type": "execute_result"
    }
   ],
   "source": [
    "np.matrix(l)"
   ]
  },
  {
   "cell_type": "code",
   "execution_count": 34,
   "id": "0cc4d99d",
   "metadata": {},
   "outputs": [
    {
     "data": {
      "text/plain": [
       "array([1, 2, 3, 4])"
      ]
     },
     "execution_count": 34,
     "metadata": {},
     "output_type": "execute_result"
    }
   ],
   "source": [
    "np.asanyarray(l)"
   ]
  },
  {
   "cell_type": "code",
   "execution_count": 35,
   "id": "bb07a60f",
   "metadata": {},
   "outputs": [],
   "source": [
    "b1=np.matrix([[1,2,3],[4,5,6]])"
   ]
  },
  {
   "cell_type": "code",
   "execution_count": 36,
   "id": "75700448",
   "metadata": {},
   "outputs": [
    {
     "data": {
      "text/plain": [
       "matrix([[1, 2, 3],\n",
       "        [4, 5, 6]])"
      ]
     },
     "execution_count": 36,
     "metadata": {},
     "output_type": "execute_result"
    }
   ],
   "source": [
    "b1"
   ]
  },
  {
   "cell_type": "code",
   "execution_count": 37,
   "id": "2945645c",
   "metadata": {},
   "outputs": [
    {
     "data": {
      "text/plain": [
       "matrix([[1, 2, 3],\n",
       "        [4, 5, 6]])"
      ]
     },
     "execution_count": 37,
     "metadata": {},
     "output_type": "execute_result"
    }
   ],
   "source": [
    "np.asanyarray(b1)"
   ]
  },
  {
   "cell_type": "code",
   "execution_count": 38,
   "id": "b5146c05",
   "metadata": {},
   "outputs": [],
   "source": [
    "# matrix is a subclass of array & array is super class of numpy library.\n",
    "# In asanyarrar we pass matrix then the output is matrix form.\n",
    "# In asanyarrar we pass list then the output is array.\n",
    "#  In asanyarrar we pass array then the output is array."
   ]
  },
  {
   "cell_type": "code",
   "execution_count": 93,
   "id": "eeb538fd",
   "metadata": {},
   "outputs": [],
   "source": [
    "# shallow copy.\n",
    "a1=[1,2,3,4,5,6]"
   ]
  },
  {
   "cell_type": "code",
   "execution_count": 94,
   "id": "1d264fc3",
   "metadata": {},
   "outputs": [
    {
     "data": {
      "text/plain": [
       "[1, 2, 3, 4, 5, 6]"
      ]
     },
     "execution_count": 94,
     "metadata": {},
     "output_type": "execute_result"
    }
   ],
   "source": [
    "a1"
   ]
  },
  {
   "cell_type": "code",
   "execution_count": 95,
   "id": "4e2b9cdb",
   "metadata": {},
   "outputs": [],
   "source": [
    "a2=np.array(a1)"
   ]
  },
  {
   "cell_type": "code",
   "execution_count": 96,
   "id": "78cc8697",
   "metadata": {},
   "outputs": [
    {
     "data": {
      "text/plain": [
       "array([1, 2, 3, 4, 5, 6])"
      ]
     },
     "execution_count": 96,
     "metadata": {},
     "output_type": "execute_result"
    }
   ],
   "source": [
    "a2"
   ]
  },
  {
   "cell_type": "code",
   "execution_count": 97,
   "id": "03f21208",
   "metadata": {},
   "outputs": [],
   "source": [
    "b2=a2"
   ]
  },
  {
   "cell_type": "code",
   "execution_count": 86,
   "id": "fee6ed24",
   "metadata": {},
   "outputs": [
    {
     "data": {
      "text/plain": [
       "array([1, 2, 3, 4, 5, 6])"
      ]
     },
     "execution_count": 86,
     "metadata": {},
     "output_type": "execute_result"
    }
   ],
   "source": [
    "b2"
   ]
  },
  {
   "cell_type": "code",
   "execution_count": 87,
   "id": "ed79ea26",
   "metadata": {},
   "outputs": [],
   "source": [
    "b2[2]=30"
   ]
  },
  {
   "cell_type": "code",
   "execution_count": 88,
   "id": "29bad68e",
   "metadata": {},
   "outputs": [
    {
     "data": {
      "text/plain": [
       "array([ 1,  2, 30,  4,  5,  6])"
      ]
     },
     "execution_count": 88,
     "metadata": {},
     "output_type": "execute_result"
    }
   ],
   "source": [
    "b2"
   ]
  },
  {
   "cell_type": "code",
   "execution_count": 89,
   "id": "8826fb6d",
   "metadata": {},
   "outputs": [
    {
     "data": {
      "text/plain": [
       "array([ 1,  2, 30,  4,  5,  6])"
      ]
     },
     "execution_count": 89,
     "metadata": {},
     "output_type": "execute_result"
    }
   ],
   "source": [
    "a2"
   ]
  },
  {
   "cell_type": "code",
   "execution_count": 90,
   "id": "5e8500c9",
   "metadata": {},
   "outputs": [],
   "source": [
    "a2[3]=40"
   ]
  },
  {
   "cell_type": "code",
   "execution_count": 91,
   "id": "f04cff6c",
   "metadata": {},
   "outputs": [
    {
     "data": {
      "text/plain": [
       "array([ 1,  2, 30, 40,  5,  6])"
      ]
     },
     "execution_count": 91,
     "metadata": {},
     "output_type": "execute_result"
    }
   ],
   "source": [
    "a2"
   ]
  },
  {
   "cell_type": "code",
   "execution_count": 92,
   "id": "b1e1478f",
   "metadata": {},
   "outputs": [
    {
     "data": {
      "text/plain": [
       "array([ 1,  2, 30, 40,  5,  6])"
      ]
     },
     "execution_count": 92,
     "metadata": {},
     "output_type": "execute_result"
    }
   ],
   "source": [
    "b2"
   ]
  },
  {
   "cell_type": "code",
   "execution_count": 98,
   "id": "4d1504a4",
   "metadata": {},
   "outputs": [],
   "source": [
    "# deep copy"
   ]
  },
  {
   "cell_type": "code",
   "execution_count": 99,
   "id": "e863261d",
   "metadata": {},
   "outputs": [],
   "source": [
    "a3=np.copy(a2)"
   ]
  },
  {
   "cell_type": "code",
   "execution_count": 100,
   "id": "ecaa838a",
   "metadata": {},
   "outputs": [
    {
     "data": {
      "text/plain": [
       "array([1, 2, 3, 4, 5, 6])"
      ]
     },
     "execution_count": 100,
     "metadata": {},
     "output_type": "execute_result"
    }
   ],
   "source": [
    "a3"
   ]
  },
  {
   "cell_type": "code",
   "execution_count": 101,
   "id": "afeb6a15",
   "metadata": {},
   "outputs": [],
   "source": [
    "a3[4]=50"
   ]
  },
  {
   "cell_type": "code",
   "execution_count": 102,
   "id": "c638d100",
   "metadata": {},
   "outputs": [
    {
     "data": {
      "text/plain": [
       "array([ 1,  2,  3,  4, 50,  6])"
      ]
     },
     "execution_count": 102,
     "metadata": {},
     "output_type": "execute_result"
    }
   ],
   "source": [
    "a3"
   ]
  },
  {
   "cell_type": "code",
   "execution_count": 103,
   "id": "74f18586",
   "metadata": {},
   "outputs": [],
   "source": [
    "#but a2 is not change."
   ]
  },
  {
   "cell_type": "code",
   "execution_count": 104,
   "id": "53c07def",
   "metadata": {},
   "outputs": [
    {
     "data": {
      "text/plain": [
       "array([1, 2, 3, 4, 5, 6])"
      ]
     },
     "execution_count": 104,
     "metadata": {},
     "output_type": "execute_result"
    }
   ],
   "source": [
    "a2"
   ]
  },
  {
   "cell_type": "code",
   "execution_count": 105,
   "id": "1ae20ef6",
   "metadata": {},
   "outputs": [],
   "source": [
    "# we use fromfunction generate a dataset."
   ]
  },
  {
   "cell_type": "code",
   "execution_count": 106,
   "id": "83db23d9",
   "metadata": {},
   "outputs": [
    {
     "data": {
      "text/plain": [
       "array([[ True, False, False, False],\n",
       "       [False,  True, False, False],\n",
       "       [False, False,  True, False]])"
      ]
     },
     "execution_count": 106,
     "metadata": {},
     "output_type": "execute_result"
    }
   ],
   "source": [
    "np.fromfunction(lambda i,j:i==j,(3,4))"
   ]
  },
  {
   "cell_type": "code",
   "execution_count": 107,
   "id": "2ef933dc",
   "metadata": {},
   "outputs": [],
   "source": [
    "# random number generation as array format."
   ]
  },
  {
   "cell_type": "code",
   "execution_count": 108,
   "id": "3818fd38",
   "metadata": {},
   "outputs": [
    {
     "data": {
      "text/plain": [
       "array([[0.03346543, 0.29335666, 0.35066126],\n",
       "       [0.77258508, 0.0965819 , 0.33484444]])"
      ]
     },
     "execution_count": 108,
     "metadata": {},
     "output_type": "execute_result"
    }
   ],
   "source": [
    "np.random.rand(2,3)"
   ]
  },
  {
   "cell_type": "code",
   "execution_count": 109,
   "id": "49811af5",
   "metadata": {},
   "outputs": [
    {
     "data": {
      "text/plain": [
       "array([[[0.6961303 , 0.05021677, 0.22037428, 0.48009369],\n",
       "        [0.70753355, 0.03697552, 0.83273144, 0.09262021],\n",
       "        [0.57143671, 0.55707551, 0.32121369, 0.93165823]],\n",
       "\n",
       "       [[0.09939983, 0.25229222, 0.8755913 , 0.42626064],\n",
       "        [0.30967198, 0.28216372, 0.17591041, 0.30840211],\n",
       "        [0.35309532, 0.81623534, 0.3826848 , 0.94939733]]])"
      ]
     },
     "execution_count": 109,
     "metadata": {},
     "output_type": "execute_result"
    }
   ],
   "source": [
    "np.random.rand(2,3,4) # 2: two dimensional array, 3: three rows,4:four columns."
   ]
  },
  {
   "cell_type": "code",
   "execution_count": 110,
   "id": "9f7e74fb",
   "metadata": {},
   "outputs": [],
   "source": [
    "# standard normal distribution."
   ]
  },
  {
   "cell_type": "code",
   "execution_count": 111,
   "id": "ab06d527",
   "metadata": {},
   "outputs": [
    {
     "data": {
      "text/plain": [
       "array([[[-0.27338027, -2.09963651, -1.35174621, -0.29599506,\n",
       "          1.12233478],\n",
       "        [ 0.35206234, -1.62358526,  0.59353365,  0.63867786,\n",
       "          1.69109112],\n",
       "        [-0.75410993, -0.26788339, -0.56657688, -0.07787179,\n",
       "          1.52925191],\n",
       "        [ 1.36673042, -0.69121713,  0.24065941, -0.13631615,\n",
       "          0.17519121]],\n",
       "\n",
       "       [[ 0.49239213,  0.58841652,  0.46860626,  0.56747992,\n",
       "          0.04926971],\n",
       "        [-1.06808113, -0.21757985,  0.44327332,  0.4877567 ,\n",
       "         -0.19533884],\n",
       "        [ 1.02008612,  0.84376484,  0.0316882 , -1.3117556 ,\n",
       "          0.60061698],\n",
       "        [-0.39596528, -0.27627032, -2.12360201, -0.41570459,\n",
       "          0.17383636]],\n",
       "\n",
       "       [[ 0.1712047 ,  1.36334939,  0.5644852 ,  0.74374657,\n",
       "          0.12117454],\n",
       "        [ 1.02743092, -0.88914979,  0.76733593, -0.22125756,\n",
       "         -0.30328255],\n",
       "        [-2.82356202, -0.29876262,  1.68395732,  1.17539844,\n",
       "         -0.56868107],\n",
       "        [ 1.41664885,  0.4572407 , -0.33824665,  0.33726517,\n",
       "         -0.78796884]]])"
      ]
     },
     "execution_count": 111,
     "metadata": {},
     "output_type": "execute_result"
    }
   ],
   "source": [
    "np.random.randn(3,4,5)"
   ]
  },
  {
   "cell_type": "code",
   "execution_count": 112,
   "id": "c94bdd10",
   "metadata": {},
   "outputs": [],
   "source": [
    "# integer"
   ]
  },
  {
   "cell_type": "code",
   "execution_count": 113,
   "id": "2744c0c4",
   "metadata": {},
   "outputs": [
    {
     "data": {
      "text/plain": [
       "array([[[8, 1, 0, 2, 9],\n",
       "        [6, 4, 1, 1, 4],\n",
       "        [2, 7, 2, 4, 5],\n",
       "        [3, 5, 6, 8, 3]],\n",
       "\n",
       "       [[2, 6, 3, 7, 7],\n",
       "        [0, 5, 8, 1, 9],\n",
       "        [3, 4, 0, 6, 3],\n",
       "        [5, 8, 8, 7, 3]],\n",
       "\n",
       "       [[2, 1, 9, 3, 6],\n",
       "        [6, 1, 3, 4, 0],\n",
       "        [5, 7, 4, 1, 4],\n",
       "        [1, 2, 1, 5, 8]]])"
      ]
     },
     "execution_count": 113,
     "metadata": {},
     "output_type": "execute_result"
    }
   ],
   "source": [
    "np.random.randint(0,10,(3,4,5))"
   ]
  },
  {
   "cell_type": "code",
   "execution_count": 114,
   "id": "985c6080",
   "metadata": {},
   "outputs": [],
   "source": [
    "# convert array to datafreame & dataframe is a 2d data."
   ]
  },
  {
   "cell_type": "code",
   "execution_count": 115,
   "id": "5e5f6eda",
   "metadata": {},
   "outputs": [],
   "source": [
    "import pandas as pd"
   ]
  },
  {
   "cell_type": "code",
   "execution_count": 128,
   "id": "63b4cc76",
   "metadata": {},
   "outputs": [],
   "source": [
    "d=np.random.randn(3,4)"
   ]
  },
  {
   "cell_type": "code",
   "execution_count": 129,
   "id": "6d530234",
   "metadata": {},
   "outputs": [
    {
     "data": {
      "text/plain": [
       "array([[ 1.73499077,  0.41843582, -0.5751314 ,  0.0460519 ],\n",
       "       [ 0.08957238,  0.75767122,  0.08520709,  1.65060713],\n",
       "       [-0.9358909 ,  1.13609969, -0.54238751,  1.07320875]])"
      ]
     },
     "execution_count": 129,
     "metadata": {},
     "output_type": "execute_result"
    }
   ],
   "source": [
    "d"
   ]
  },
  {
   "cell_type": "code",
   "execution_count": 130,
   "id": "b9021802",
   "metadata": {},
   "outputs": [
    {
     "data": {
      "text/html": [
       "<div>\n",
       "<style scoped>\n",
       "    .dataframe tbody tr th:only-of-type {\n",
       "        vertical-align: middle;\n",
       "    }\n",
       "\n",
       "    .dataframe tbody tr th {\n",
       "        vertical-align: top;\n",
       "    }\n",
       "\n",
       "    .dataframe thead th {\n",
       "        text-align: right;\n",
       "    }\n",
       "</style>\n",
       "<table border=\"1\" class=\"dataframe\">\n",
       "  <thead>\n",
       "    <tr style=\"text-align: right;\">\n",
       "      <th></th>\n",
       "      <th>0</th>\n",
       "      <th>1</th>\n",
       "      <th>2</th>\n",
       "      <th>3</th>\n",
       "    </tr>\n",
       "  </thead>\n",
       "  <tbody>\n",
       "    <tr>\n",
       "      <th>0</th>\n",
       "      <td>1.734991</td>\n",
       "      <td>0.418436</td>\n",
       "      <td>-0.575131</td>\n",
       "      <td>0.046052</td>\n",
       "    </tr>\n",
       "    <tr>\n",
       "      <th>1</th>\n",
       "      <td>0.089572</td>\n",
       "      <td>0.757671</td>\n",
       "      <td>0.085207</td>\n",
       "      <td>1.650607</td>\n",
       "    </tr>\n",
       "    <tr>\n",
       "      <th>2</th>\n",
       "      <td>-0.935891</td>\n",
       "      <td>1.136100</td>\n",
       "      <td>-0.542388</td>\n",
       "      <td>1.073209</td>\n",
       "    </tr>\n",
       "  </tbody>\n",
       "</table>\n",
       "</div>"
      ],
      "text/plain": [
       "          0         1         2         3\n",
       "0  1.734991  0.418436 -0.575131  0.046052\n",
       "1  0.089572  0.757671  0.085207  1.650607\n",
       "2 -0.935891  1.136100 -0.542388  1.073209"
      ]
     },
     "execution_count": 130,
     "metadata": {},
     "output_type": "execute_result"
    }
   ],
   "source": [
    "pd.DataFrame(d)"
   ]
  },
  {
   "cell_type": "code",
   "execution_count": 131,
   "id": "21fadf38",
   "metadata": {},
   "outputs": [],
   "source": [
    "# convert 3d dimension to 2d dimension."
   ]
  },
  {
   "cell_type": "code",
   "execution_count": 132,
   "id": "b51c8afc",
   "metadata": {},
   "outputs": [],
   "source": [
    "d1=np.random.randint(0,15,(3,4,5))"
   ]
  },
  {
   "cell_type": "code",
   "execution_count": 133,
   "id": "99cf7806",
   "metadata": {},
   "outputs": [
    {
     "data": {
      "text/plain": [
       "array([[[11,  2, 12,  5,  0],\n",
       "        [14,  6, 11,  7,  9],\n",
       "        [ 7,  6,  4,  4,  0],\n",
       "        [ 8, 12,  0,  0, 14]],\n",
       "\n",
       "       [[ 5,  1,  5, 14,  8],\n",
       "        [ 2,  9, 13, 11,  9],\n",
       "        [ 5,  4,  3,  3, 13],\n",
       "        [14,  4,  0,  6,  6]],\n",
       "\n",
       "       [[ 7,  1,  8,  6,  9],\n",
       "        [ 5,  8,  5,  1, 13],\n",
       "        [ 0,  9, 14,  1, 13],\n",
       "        [ 3, 10, 11,  8, 10]]])"
      ]
     },
     "execution_count": 133,
     "metadata": {},
     "output_type": "execute_result"
    }
   ],
   "source": [
    "d1"
   ]
  },
  {
   "cell_type": "code",
   "execution_count": 134,
   "id": "f3ee2001",
   "metadata": {},
   "outputs": [
    {
     "data": {
      "text/plain": [
       "array([[11,  2, 12,  5,  0],\n",
       "       [14,  6, 11,  7,  9],\n",
       "       [ 7,  6,  4,  4,  0],\n",
       "       [ 8, 12,  0,  0, 14],\n",
       "       [ 5,  1,  5, 14,  8],\n",
       "       [ 2,  9, 13, 11,  9],\n",
       "       [ 5,  4,  3,  3, 13],\n",
       "       [14,  4,  0,  6,  6],\n",
       "       [ 7,  1,  8,  6,  9],\n",
       "       [ 5,  8,  5,  1, 13],\n",
       "       [ 0,  9, 14,  1, 13],\n",
       "       [ 3, 10, 11,  8, 10]])"
      ]
     },
     "execution_count": 134,
     "metadata": {},
     "output_type": "execute_result"
    }
   ],
   "source": [
    "d1.reshape(12,5)"
   ]
  },
  {
   "cell_type": "code",
   "execution_count": 135,
   "id": "ed86823c",
   "metadata": {},
   "outputs": [
    {
     "data": {
      "text/plain": [
       "array([[11,  2, 12,  5,  0, 14,  6, 11,  7,  9,  7,  6],\n",
       "       [ 4,  4,  0,  8, 12,  0,  0, 14,  5,  1,  5, 14],\n",
       "       [ 8,  2,  9, 13, 11,  9,  5,  4,  3,  3, 13, 14],\n",
       "       [ 4,  0,  6,  6,  7,  1,  8,  6,  9,  5,  8,  5],\n",
       "       [ 1, 13,  0,  9, 14,  1, 13,  3, 10, 11,  8, 10]])"
      ]
     },
     "execution_count": 135,
     "metadata": {},
     "output_type": "execute_result"
    }
   ],
   "source": [
    "d1.reshape(5,12)"
   ]
  },
  {
   "cell_type": "code",
   "execution_count": null,
   "id": "926c04b7",
   "metadata": {},
   "outputs": [],
   "source": [
    "# convert array to dataframe."
   ]
  },
  {
   "cell_type": "code",
   "execution_count": 136,
   "id": "fd7ee6e1",
   "metadata": {},
   "outputs": [
    {
     "data": {
      "text/html": [
       "<div>\n",
       "<style scoped>\n",
       "    .dataframe tbody tr th:only-of-type {\n",
       "        vertical-align: middle;\n",
       "    }\n",
       "\n",
       "    .dataframe tbody tr th {\n",
       "        vertical-align: top;\n",
       "    }\n",
       "\n",
       "    .dataframe thead th {\n",
       "        text-align: right;\n",
       "    }\n",
       "</style>\n",
       "<table border=\"1\" class=\"dataframe\">\n",
       "  <thead>\n",
       "    <tr style=\"text-align: right;\">\n",
       "      <th></th>\n",
       "      <th>0</th>\n",
       "      <th>1</th>\n",
       "      <th>2</th>\n",
       "      <th>3</th>\n",
       "      <th>4</th>\n",
       "      <th>5</th>\n",
       "      <th>6</th>\n",
       "      <th>7</th>\n",
       "      <th>8</th>\n",
       "      <th>9</th>\n",
       "      <th>10</th>\n",
       "      <th>11</th>\n",
       "    </tr>\n",
       "  </thead>\n",
       "  <tbody>\n",
       "    <tr>\n",
       "      <th>0</th>\n",
       "      <td>11</td>\n",
       "      <td>2</td>\n",
       "      <td>12</td>\n",
       "      <td>5</td>\n",
       "      <td>0</td>\n",
       "      <td>14</td>\n",
       "      <td>6</td>\n",
       "      <td>11</td>\n",
       "      <td>7</td>\n",
       "      <td>9</td>\n",
       "      <td>7</td>\n",
       "      <td>6</td>\n",
       "    </tr>\n",
       "    <tr>\n",
       "      <th>1</th>\n",
       "      <td>4</td>\n",
       "      <td>4</td>\n",
       "      <td>0</td>\n",
       "      <td>8</td>\n",
       "      <td>12</td>\n",
       "      <td>0</td>\n",
       "      <td>0</td>\n",
       "      <td>14</td>\n",
       "      <td>5</td>\n",
       "      <td>1</td>\n",
       "      <td>5</td>\n",
       "      <td>14</td>\n",
       "    </tr>\n",
       "    <tr>\n",
       "      <th>2</th>\n",
       "      <td>8</td>\n",
       "      <td>2</td>\n",
       "      <td>9</td>\n",
       "      <td>13</td>\n",
       "      <td>11</td>\n",
       "      <td>9</td>\n",
       "      <td>5</td>\n",
       "      <td>4</td>\n",
       "      <td>3</td>\n",
       "      <td>3</td>\n",
       "      <td>13</td>\n",
       "      <td>14</td>\n",
       "    </tr>\n",
       "    <tr>\n",
       "      <th>3</th>\n",
       "      <td>4</td>\n",
       "      <td>0</td>\n",
       "      <td>6</td>\n",
       "      <td>6</td>\n",
       "      <td>7</td>\n",
       "      <td>1</td>\n",
       "      <td>8</td>\n",
       "      <td>6</td>\n",
       "      <td>9</td>\n",
       "      <td>5</td>\n",
       "      <td>8</td>\n",
       "      <td>5</td>\n",
       "    </tr>\n",
       "    <tr>\n",
       "      <th>4</th>\n",
       "      <td>1</td>\n",
       "      <td>13</td>\n",
       "      <td>0</td>\n",
       "      <td>9</td>\n",
       "      <td>14</td>\n",
       "      <td>1</td>\n",
       "      <td>13</td>\n",
       "      <td>3</td>\n",
       "      <td>10</td>\n",
       "      <td>11</td>\n",
       "      <td>8</td>\n",
       "      <td>10</td>\n",
       "    </tr>\n",
       "  </tbody>\n",
       "</table>\n",
       "</div>"
      ],
      "text/plain": [
       "   0   1   2   3   4   5   6   7   8   9   10  11\n",
       "0  11   2  12   5   0  14   6  11   7   9   7   6\n",
       "1   4   4   0   8  12   0   0  14   5   1   5  14\n",
       "2   8   2   9  13  11   9   5   4   3   3  13  14\n",
       "3   4   0   6   6   7   1   8   6   9   5   8   5\n",
       "4   1  13   0   9  14   1  13   3  10  11   8  10"
      ]
     },
     "execution_count": 136,
     "metadata": {},
     "output_type": "execute_result"
    }
   ],
   "source": [
    "pd.DataFrame(d1.reshape(5,12))"
   ]
  },
  {
   "cell_type": "code",
   "execution_count": 137,
   "id": "b6cfcc81",
   "metadata": {},
   "outputs": [
    {
     "data": {
      "text/plain": [
       "range(0, 10)"
      ]
     },
     "execution_count": 137,
     "metadata": {},
     "output_type": "execute_result"
    }
   ],
   "source": [
    "range(10)"
   ]
  },
  {
   "cell_type": "code",
   "execution_count": 140,
   "id": "b8072b4e",
   "metadata": {},
   "outputs": [
    {
     "data": {
      "text/plain": [
       "[2, 3, 4, 5, 6, 7, 8, 9, 10, 11, 12, 13, 14]"
      ]
     },
     "execution_count": 140,
     "metadata": {},
     "output_type": "execute_result"
    }
   ],
   "source": [
    "# range function take only integer.\n",
    "list(range(2,15))"
   ]
  },
  {
   "cell_type": "code",
   "execution_count": 144,
   "id": "d8cada3e",
   "metadata": {},
   "outputs": [
    {
     "ename": "TypeError",
     "evalue": "'float' object cannot be interpreted as an integer",
     "output_type": "error",
     "traceback": [
      "\u001b[1;31m---------------------------------------------------------------------------\u001b[0m",
      "\u001b[1;31mTypeError\u001b[0m                                 Traceback (most recent call last)",
      "Cell \u001b[1;32mIn[144], line 1\u001b[0m\n\u001b[1;32m----> 1\u001b[0m \u001b[38;5;28mlist\u001b[39m(\u001b[38;5;28;43mrange\u001b[39;49m\u001b[43m(\u001b[49m\u001b[38;5;241;43m2.1\u001b[39;49m\u001b[43m,\u001b[49m\u001b[38;5;241;43m15\u001b[39;49m\u001b[43m)\u001b[49m)\n",
      "\u001b[1;31mTypeError\u001b[0m: 'float' object cannot be interpreted as an integer"
     ]
    }
   ],
   "source": [
    "list(range(2.1,15))"
   ]
  },
  {
   "cell_type": "code",
   "execution_count": 141,
   "id": "85d354a4",
   "metadata": {},
   "outputs": [],
   "source": [
    "# arange take floating function.\n",
    "# arange function update version of range function."
   ]
  },
  {
   "cell_type": "code",
   "execution_count": 145,
   "id": "42117553",
   "metadata": {},
   "outputs": [
    {
     "data": {
      "text/plain": [
       "array([ 2.1,  3.1,  4.1,  5.1,  6.1,  7.1,  8.1,  9.1, 10.1, 11.1, 12.1,\n",
       "       13.1, 14.1])"
      ]
     },
     "execution_count": 145,
     "metadata": {},
     "output_type": "execute_result"
    }
   ],
   "source": [
    "np.arange(2.1,15)"
   ]
  },
  {
   "cell_type": "code",
   "execution_count": 146,
   "id": "9d430be7",
   "metadata": {},
   "outputs": [
    {
     "data": {
      "text/html": [
       "<div>\n",
       "<style scoped>\n",
       "    .dataframe tbody tr th:only-of-type {\n",
       "        vertical-align: middle;\n",
       "    }\n",
       "\n",
       "    .dataframe tbody tr th {\n",
       "        vertical-align: top;\n",
       "    }\n",
       "\n",
       "    .dataframe thead th {\n",
       "        text-align: right;\n",
       "    }\n",
       "</style>\n",
       "<table border=\"1\" class=\"dataframe\">\n",
       "  <thead>\n",
       "    <tr style=\"text-align: right;\">\n",
       "      <th></th>\n",
       "      <th>0</th>\n",
       "    </tr>\n",
       "  </thead>\n",
       "  <tbody>\n",
       "    <tr>\n",
       "      <th>0</th>\n",
       "      <td>2.1</td>\n",
       "    </tr>\n",
       "    <tr>\n",
       "      <th>1</th>\n",
       "      <td>3.1</td>\n",
       "    </tr>\n",
       "    <tr>\n",
       "      <th>2</th>\n",
       "      <td>4.1</td>\n",
       "    </tr>\n",
       "    <tr>\n",
       "      <th>3</th>\n",
       "      <td>5.1</td>\n",
       "    </tr>\n",
       "    <tr>\n",
       "      <th>4</th>\n",
       "      <td>6.1</td>\n",
       "    </tr>\n",
       "    <tr>\n",
       "      <th>5</th>\n",
       "      <td>7.1</td>\n",
       "    </tr>\n",
       "    <tr>\n",
       "      <th>6</th>\n",
       "      <td>8.1</td>\n",
       "    </tr>\n",
       "    <tr>\n",
       "      <th>7</th>\n",
       "      <td>9.1</td>\n",
       "    </tr>\n",
       "    <tr>\n",
       "      <th>8</th>\n",
       "      <td>10.1</td>\n",
       "    </tr>\n",
       "    <tr>\n",
       "      <th>9</th>\n",
       "      <td>11.1</td>\n",
       "    </tr>\n",
       "    <tr>\n",
       "      <th>10</th>\n",
       "      <td>12.1</td>\n",
       "    </tr>\n",
       "    <tr>\n",
       "      <th>11</th>\n",
       "      <td>13.1</td>\n",
       "    </tr>\n",
       "    <tr>\n",
       "      <th>12</th>\n",
       "      <td>14.1</td>\n",
       "    </tr>\n",
       "  </tbody>\n",
       "</table>\n",
       "</div>"
      ],
      "text/plain": [
       "       0\n",
       "0    2.1\n",
       "1    3.1\n",
       "2    4.1\n",
       "3    5.1\n",
       "4    6.1\n",
       "5    7.1\n",
       "6    8.1\n",
       "7    9.1\n",
       "8   10.1\n",
       "9   11.1\n",
       "10  12.1\n",
       "11  13.1\n",
       "12  14.1"
      ]
     },
     "execution_count": 146,
     "metadata": {},
     "output_type": "execute_result"
    }
   ],
   "source": [
    "pd.DataFrame(np.arange(2.1,15))"
   ]
  },
  {
   "cell_type": "code",
   "execution_count": 148,
   "id": "df9ac07c",
   "metadata": {},
   "outputs": [
    {
     "data": {
      "text/plain": [
       "array([ 3.00000000e+00,  2.90000000e+00,  2.80000000e+00,  2.70000000e+00,\n",
       "        2.60000000e+00,  2.50000000e+00,  2.40000000e+00,  2.30000000e+00,\n",
       "        2.20000000e+00,  2.10000000e+00,  2.00000000e+00,  1.90000000e+00,\n",
       "        1.80000000e+00,  1.70000000e+00,  1.60000000e+00,  1.50000000e+00,\n",
       "        1.40000000e+00,  1.30000000e+00,  1.20000000e+00,  1.10000000e+00,\n",
       "        1.00000000e+00,  9.00000000e-01,  8.00000000e-01,  7.00000000e-01,\n",
       "        6.00000000e-01,  5.00000000e-01,  4.00000000e-01,  3.00000000e-01,\n",
       "        2.00000000e-01,  1.00000000e-01, -2.66453526e-15, -1.00000000e-01,\n",
       "       -2.00000000e-01, -3.00000000e-01, -4.00000000e-01, -5.00000000e-01,\n",
       "       -6.00000000e-01, -7.00000000e-01, -8.00000000e-01, -9.00000000e-01])"
      ]
     },
     "execution_count": 148,
     "metadata": {},
     "output_type": "execute_result"
    }
   ],
   "source": [
    "np.arange(3,-1,-.1)"
   ]
  },
  {
   "cell_type": "code",
   "execution_count": 149,
   "id": "797b5bc2",
   "metadata": {},
   "outputs": [],
   "source": [
    "# linspace function."
   ]
  },
  {
   "cell_type": "code",
   "execution_count": 150,
   "id": "63a3b4c4",
   "metadata": {},
   "outputs": [
    {
     "data": {
      "text/plain": [
       "array([1.        , 1.21052632, 1.42105263, 1.63157895, 1.84210526,\n",
       "       2.05263158, 2.26315789, 2.47368421, 2.68421053, 2.89473684,\n",
       "       3.10526316, 3.31578947, 3.52631579, 3.73684211, 3.94736842,\n",
       "       4.15789474, 4.36842105, 4.57894737, 4.78947368, 5.        ])"
      ]
     },
     "execution_count": 150,
     "metadata": {},
     "output_type": "execute_result"
    }
   ],
   "source": [
    "np.linspace(1,5,20)"
   ]
  },
  {
   "cell_type": "code",
   "execution_count": 152,
   "id": "93fafba4",
   "metadata": {},
   "outputs": [
    {
     "data": {
      "text/plain": [
       "[array([1.        , 1.21052632, 1.42105263, 1.63157895, 1.84210526,\n",
       "        2.05263158, 2.26315789, 2.47368421, 2.68421053, 2.89473684,\n",
       "        3.10526316, 3.31578947, 3.52631579, 3.73684211, 3.94736842,\n",
       "        4.15789474, 4.36842105, 4.57894737, 4.78947368, 5.        ]),\n",
       " 0.21052631578947367]"
      ]
     },
     "execution_count": 152,
     "metadata": {},
     "output_type": "execute_result"
    }
   ],
   "source": [
    "list(np.linspace(1,5,20,retstep=True)) # retstep =true : meaning jump size."
   ]
  },
  {
   "cell_type": "code",
   "execution_count": 153,
   "id": "fba8d42e",
   "metadata": {},
   "outputs": [],
   "source": [
    "#logspace."
   ]
  },
  {
   "cell_type": "code",
   "execution_count": 156,
   "id": "a1483b22",
   "metadata": {},
   "outputs": [
    {
     "data": {
      "text/plain": [
       "array([ 10000.        ,  12915.49665015,  16681.005372  ,  21544.34690032,\n",
       "        27825.59402207,  35938.13663805,  46415.88833613,  59948.42503189,\n",
       "        77426.36826811, 100000.        ])"
      ]
     },
     "execution_count": 156,
     "metadata": {},
     "output_type": "execute_result"
    }
   ],
   "source": [
    "np.logspace(4,5,10)#logarithm value with 10 base."
   ]
  },
  {
   "cell_type": "code",
   "execution_count": 158,
   "id": "3d0ada55",
   "metadata": {},
   "outputs": [
    {
     "data": {
      "text/plain": [
       "array([0., 0., 0., 0., 0.])"
      ]
     },
     "execution_count": 158,
     "metadata": {},
     "output_type": "execute_result"
    }
   ],
   "source": [
    "np.zeros(5)"
   ]
  },
  {
   "cell_type": "code",
   "execution_count": 159,
   "id": "3c702afa",
   "metadata": {},
   "outputs": [
    {
     "data": {
      "text/plain": [
       "array([[0., 0., 0., 0., 0.],\n",
       "       [0., 0., 0., 0., 0.],\n",
       "       [0., 0., 0., 0., 0.]])"
      ]
     },
     "execution_count": 159,
     "metadata": {},
     "output_type": "execute_result"
    }
   ],
   "source": [
    "np.zeros((3,5))"
   ]
  },
  {
   "cell_type": "code",
   "execution_count": 160,
   "id": "aa0bf1b4",
   "metadata": {},
   "outputs": [
    {
     "data": {
      "text/plain": [
       "array([[[0., 0., 0.],\n",
       "        [0., 0., 0.],\n",
       "        [0., 0., 0.],\n",
       "        [0., 0., 0.],\n",
       "        [0., 0., 0.]],\n",
       "\n",
       "       [[0., 0., 0.],\n",
       "        [0., 0., 0.],\n",
       "        [0., 0., 0.],\n",
       "        [0., 0., 0.],\n",
       "        [0., 0., 0.]],\n",
       "\n",
       "       [[0., 0., 0.],\n",
       "        [0., 0., 0.],\n",
       "        [0., 0., 0.],\n",
       "        [0., 0., 0.],\n",
       "        [0., 0., 0.]],\n",
       "\n",
       "       [[0., 0., 0.],\n",
       "        [0., 0., 0.],\n",
       "        [0., 0., 0.],\n",
       "        [0., 0., 0.],\n",
       "        [0., 0., 0.]]])"
      ]
     },
     "execution_count": 160,
     "metadata": {},
     "output_type": "execute_result"
    }
   ],
   "source": [
    "np.zeros((4,5,3))"
   ]
  },
  {
   "cell_type": "code",
   "execution_count": 161,
   "id": "2a581276",
   "metadata": {},
   "outputs": [
    {
     "data": {
      "text/plain": [
       "array([1., 1., 1., 1., 1.])"
      ]
     },
     "execution_count": 161,
     "metadata": {},
     "output_type": "execute_result"
    }
   ],
   "source": [
    "np.ones(5)"
   ]
  },
  {
   "cell_type": "code",
   "execution_count": 162,
   "id": "a9f70561",
   "metadata": {},
   "outputs": [
    {
     "data": {
      "text/plain": [
       "array([[1., 1., 1., 1., 1.],\n",
       "       [1., 1., 1., 1., 1.],\n",
       "       [1., 1., 1., 1., 1.],\n",
       "       [1., 1., 1., 1., 1.]])"
      ]
     },
     "execution_count": 162,
     "metadata": {},
     "output_type": "execute_result"
    }
   ],
   "source": [
    "np.ones((4,5))"
   ]
  },
  {
   "cell_type": "code",
   "execution_count": 163,
   "id": "a71a2871",
   "metadata": {},
   "outputs": [
    {
     "data": {
      "text/plain": [
       "array([[[1., 1., 1., 1.],\n",
       "        [1., 1., 1., 1.],\n",
       "        [1., 1., 1., 1.],\n",
       "        [1., 1., 1., 1.],\n",
       "        [1., 1., 1., 1.]],\n",
       "\n",
       "       [[1., 1., 1., 1.],\n",
       "        [1., 1., 1., 1.],\n",
       "        [1., 1., 1., 1.],\n",
       "        [1., 1., 1., 1.],\n",
       "        [1., 1., 1., 1.]],\n",
       "\n",
       "       [[1., 1., 1., 1.],\n",
       "        [1., 1., 1., 1.],\n",
       "        [1., 1., 1., 1.],\n",
       "        [1., 1., 1., 1.],\n",
       "        [1., 1., 1., 1.]]])"
      ]
     },
     "execution_count": 163,
     "metadata": {},
     "output_type": "execute_result"
    }
   ],
   "source": [
    "np.ones((3,5,4))"
   ]
  },
  {
   "cell_type": "code",
   "execution_count": 164,
   "id": "46dc39cd",
   "metadata": {},
   "outputs": [
    {
     "data": {
      "text/plain": [
       "array([[0.03346543, 0.29335666, 0.35066126],\n",
       "       [0.77258508, 0.0965819 , 0.33484444]])"
      ]
     },
     "execution_count": 164,
     "metadata": {},
     "output_type": "execute_result"
    }
   ],
   "source": [
    "np.empty((2,3))"
   ]
  },
  {
   "cell_type": "code",
   "execution_count": 165,
   "id": "d2cdeab9",
   "metadata": {},
   "outputs": [],
   "source": [
    "# identity array."
   ]
  },
  {
   "cell_type": "code",
   "execution_count": 167,
   "id": "89ae8ae9",
   "metadata": {},
   "outputs": [
    {
     "data": {
      "text/plain": [
       "array([[1., 0., 0.],\n",
       "       [0., 1., 0.],\n",
       "       [0., 0., 1.],\n",
       "       [0., 0., 0.]])"
      ]
     },
     "execution_count": 167,
     "metadata": {},
     "output_type": "execute_result"
    }
   ],
   "source": [
    "np.eye(4,3)"
   ]
  },
  {
   "cell_type": "code",
   "execution_count": 169,
   "id": "b8a1d8d1",
   "metadata": {},
   "outputs": [],
   "source": [
    "e=np.random.rand(4,5)"
   ]
  },
  {
   "cell_type": "code",
   "execution_count": 170,
   "id": "fbe4f873",
   "metadata": {},
   "outputs": [
    {
     "data": {
      "text/plain": [
       "array([[0.52062212, 0.6507074 , 0.42830858, 0.12443832, 0.08134484],\n",
       "       [0.99994577, 0.45172967, 0.91960303, 0.16366028, 0.77698657],\n",
       "       [0.95285873, 0.94582341, 0.66747883, 0.14304475, 0.39009997],\n",
       "       [0.54228676, 0.85869402, 0.36701102, 0.52334256, 0.30010962]])"
      ]
     },
     "execution_count": 170,
     "metadata": {},
     "output_type": "execute_result"
    }
   ],
   "source": [
    "e"
   ]
  },
  {
   "cell_type": "code",
   "execution_count": 171,
   "id": "7a8fcfeb",
   "metadata": {},
   "outputs": [
    {
     "data": {
      "text/plain": [
       "0.4517296732135866"
      ]
     },
     "execution_count": 171,
     "metadata": {},
     "output_type": "execute_result"
    }
   ],
   "source": [
    "e[1][1]"
   ]
  },
  {
   "cell_type": "code",
   "execution_count": 172,
   "id": "26e1c8f5",
   "metadata": {},
   "outputs": [],
   "source": [
    "# matrix multiplication."
   ]
  },
  {
   "cell_type": "code",
   "execution_count": 173,
   "id": "1057979f",
   "metadata": {},
   "outputs": [],
   "source": [
    "m1=np.random.randint(1,10,(3,3))"
   ]
  },
  {
   "cell_type": "code",
   "execution_count": 174,
   "id": "5dccc23a",
   "metadata": {},
   "outputs": [
    {
     "data": {
      "text/plain": [
       "array([[9, 7, 1],\n",
       "       [2, 5, 1],\n",
       "       [8, 7, 1]])"
      ]
     },
     "execution_count": 174,
     "metadata": {},
     "output_type": "execute_result"
    }
   ],
   "source": [
    "m1"
   ]
  },
  {
   "cell_type": "code",
   "execution_count": 175,
   "id": "3804149e",
   "metadata": {},
   "outputs": [],
   "source": [
    "m2=np.random.randint(2,8,(3,3))"
   ]
  },
  {
   "cell_type": "code",
   "execution_count": 176,
   "id": "0031b6a2",
   "metadata": {},
   "outputs": [
    {
     "data": {
      "text/plain": [
       "array([[4, 6, 2],\n",
       "       [2, 4, 6],\n",
       "       [6, 6, 3]])"
      ]
     },
     "execution_count": 176,
     "metadata": {},
     "output_type": "execute_result"
    }
   ],
   "source": [
    "m2"
   ]
  },
  {
   "cell_type": "code",
   "execution_count": 177,
   "id": "e8d3f947",
   "metadata": {},
   "outputs": [
    {
     "data": {
      "text/plain": [
       "array([[56, 88, 63],\n",
       "       [24, 38, 37],\n",
       "       [52, 82, 61]])"
      ]
     },
     "execution_count": 177,
     "metadata": {},
     "output_type": "execute_result"
    }
   ],
   "source": [
    "m1@m2"
   ]
  },
  {
   "cell_type": "code",
   "execution_count": 178,
   "id": "530723a0",
   "metadata": {},
   "outputs": [
    {
     "data": {
      "text/plain": [
       "array([[81, 49,  1],\n",
       "       [ 4, 25,  1],\n",
       "       [64, 49,  1]], dtype=int32)"
      ]
     },
     "execution_count": 178,
     "metadata": {},
     "output_type": "execute_result"
    }
   ],
   "source": [
    "pow(m1,2)"
   ]
  },
  {
   "cell_type": "code",
   "execution_count": 179,
   "id": "cec76dfe",
   "metadata": {},
   "outputs": [
    {
     "data": {
      "text/plain": [
       "array([[3.        , 2.64575131, 1.        ],\n",
       "       [1.41421356, 2.23606798, 1.        ],\n",
       "       [2.82842712, 2.64575131, 1.        ]])"
      ]
     },
     "execution_count": 179,
     "metadata": {},
     "output_type": "execute_result"
    }
   ],
   "source": [
    "np.sqrt(m1)"
   ]
  },
  {
   "cell_type": "code",
   "execution_count": 180,
   "id": "98847b71",
   "metadata": {},
   "outputs": [
    {
     "data": {
      "text/plain": [
       "array([[8.10308393e+03, 1.09663316e+03, 2.71828183e+00],\n",
       "       [7.38905610e+00, 1.48413159e+02, 2.71828183e+00],\n",
       "       [2.98095799e+03, 1.09663316e+03, 2.71828183e+00]])"
      ]
     },
     "execution_count": 180,
     "metadata": {},
     "output_type": "execute_result"
    }
   ],
   "source": [
    "np.exp(m1)"
   ]
  },
  {
   "cell_type": "code",
   "execution_count": 181,
   "id": "5adb1ff5",
   "metadata": {},
   "outputs": [
    {
     "data": {
      "text/plain": [
       "array([[1.38629436, 1.79175947, 0.69314718],\n",
       "       [0.69314718, 1.38629436, 1.79175947],\n",
       "       [1.79175947, 1.79175947, 1.09861229]])"
      ]
     },
     "execution_count": 181,
     "metadata": {},
     "output_type": "execute_result"
    }
   ],
   "source": [
    "np.log(m2)"
   ]
  },
  {
   "cell_type": "code",
   "execution_count": null,
   "id": "cab37742",
   "metadata": {},
   "outputs": [],
   "source": []
  }
 ],
 "metadata": {
  "kernelspec": {
   "display_name": "Python 3 (ipykernel)",
   "language": "python",
   "name": "python3"
  },
  "language_info": {
   "codemirror_mode": {
    "name": "ipython",
    "version": 3
   },
   "file_extension": ".py",
   "mimetype": "text/x-python",
   "name": "python",
   "nbconvert_exporter": "python",
   "pygments_lexer": "ipython3",
   "version": "3.9.13"
  }
 },
 "nbformat": 4,
 "nbformat_minor": 5
}
